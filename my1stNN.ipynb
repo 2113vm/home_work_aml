{
 "cells": [
  {
   "cell_type": "code",
   "execution_count": 1,
   "metadata": {},
   "outputs": [
    {
     "name": "stderr",
     "output_type": "stream",
     "text": [
      "Using TensorFlow backend.\n"
     ]
    },
    {
     "name": "stdout",
     "output_type": "stream",
     "text": [
      "(50000, 28, 28) (50000,)\n"
     ]
    },
    {
     "data": {
      "image/png": "[encoded data removed]",
      "text/plain": [
       "<matplotlib.figure.Figure at 0x7fe1f8c3bba8>"
      ]
     },
     "metadata": {},
     "output_type": "display_data"
    }
   ],
   "source": [
    "import tensorflow as tf\n",
    "from tensorflow import InteractiveSession\n",
    "s = InteractiveSession()\n",
    "from preprocessed_mnist import load_dataset\n",
    "X_train, y_train, X_val, y_val, X_test, y_test = load_dataset()\n",
    "print(X_train.shape, y_train.shape)\n",
    "import matplotlib.pyplot as plt\n",
    "%matplotlib inline\n",
    "plt.imshow(X_train[0], cmap=\"Greys\");"
   ]
  },
  {
   "cell_type": "code",
   "execution_count": 2,
   "metadata": {
    "collapsed": true
   },
   "outputs": [],
   "source": [
    "import numpy as np"
   ]
  },
  {
   "cell_type": "code",
   "execution_count": 3,
   "metadata": {
    "collapsed": true
   },
   "outputs": [],
   "source": [
    "input_shape = (None, 28*28)\n",
    "hidden_1 = 1000\n",
    "hidden_2 = 10"
   ]
  },
  {
   "cell_type": "code",
   "execution_count": 4,
   "metadata": {},
   "outputs": [
    {
     "data": {
      "text/plain": [
       "(<tf.Tensor 'Placeholder:0' shape=(?, 784) dtype=float32>,\n",
       " <tf.Tensor 'Placeholder_1:0' shape=(?, 10) dtype=float32>)"
      ]
     },
     "execution_count": 4,
     "metadata": {},
     "output_type": "execute_result"
    }
   ],
   "source": [
    "input_X = tf.placeholder(dtype=tf.float32, shape=input_shape)\n",
    "input_y = tf.placeholder(dtype=tf.float32, shape=(None, 10))\n",
    "\n",
    "input_X, input_y"
   ]
  },
  {
   "cell_type": "code",
   "execution_count": 5,
   "metadata": {
    "collapsed": true
   },
   "outputs": [],
   "source": [
    "from sklearn.preprocessing import OneHotEncoder, LabelEncoder\n",
    "\n",
    "def preproc_input(X, y):\n",
    "    labels = LabelEncoder().fit_transform(y)[:, None]\n",
    "    y = OneHotEncoder().fit_transform(labels).todense()\n",
    "\n",
    "    X = X.reshape(X.shape[0], 28*28)\n",
    "    return X, y"
   ]
  },
  {
   "cell_type": "code",
   "execution_count": 6,
   "metadata": {
    "collapsed": true
   },
   "outputs": [],
   "source": [
    "X_train, y_train = preproc_input(X_train, y_train)"
   ]
  },
  {
   "cell_type": "code",
   "execution_count": 7,
   "metadata": {
    "collapsed": true
   },
   "outputs": [],
   "source": [
    "X_val, y_val = preproc_input(X_val, y_val)"
   ]
  },
  {
   "cell_type": "code",
   "execution_count": 8,
   "metadata": {},
   "outputs": [
    {
     "data": {
      "text/plain": [
       "((50000, 784), (50000, 10))"
      ]
     },
     "execution_count": 8,
     "metadata": {},
     "output_type": "execute_result"
    }
   ],
   "source": [
    "X_train.shape, y_train.shape"
   ]
  },
  {
   "cell_type": "code",
   "execution_count": 9,
   "metadata": {},
   "outputs": [
    {
     "data": {
      "text/plain": [
       "(<tf.Variable 'Variable:0' shape=(784, 1000) dtype=float32_ref>,\n",
       " <tf.Variable 'Variable_2:0' shape=(1000, 10) dtype=float32_ref>,\n",
       " <tf.Variable 'Variable_1:0' shape=(1, 1000) dtype=float32_ref>,\n",
       " <tf.Variable 'Variable_3:0' shape=(1, 10) dtype=float32_ref>)"
      ]
     },
     "execution_count": 9,
     "metadata": {},
     "output_type": "execute_result"
    }
   ],
   "source": [
    "weights_1 = tf.Variable(dtype=tf.float32, \n",
    "                        initial_value=tf.random_normal(shape=(28*28, hidden_1)), \n",
    "                        expected_shape=(28*28, hidden_1))\n",
    "bias_1 = tf.Variable(dtype=tf.float32, \n",
    "                     initial_value=tf.ones((1, hidden_1)),\n",
    "                     expected_shape=(1, hidden_1))\n",
    "\n",
    "weights_2 = tf.Variable(dtype=tf.float32, \n",
    "                        initial_value=tf.random_normal(shape=(hidden_1, hidden_2)), \n",
    "                        expected_shape=(hidden_1, hidden_2))\n",
    "bias_2 = tf.Variable(dtype=tf.float32, \n",
    "                     initial_value=tf.ones((1, hidden_2)),\n",
    "                     expected_shape=(1, hidden_2))\n",
    "weights_1, weights_2, bias_1, bias_2"
   ]
  },
  {
   "cell_type": "code",
   "execution_count": 10,
   "metadata": {},
   "outputs": [
    {
     "data": {
      "text/plain": [
       "(<tf.Tensor 'Softmax:0' shape=(?, 1000) dtype=float32>,\n",
       " <tf.Tensor 'Softmax_1:0' shape=(?, 10) dtype=float32>)"
      ]
     },
     "execution_count": 10,
     "metadata": {},
     "output_type": "execute_result"
    }
   ],
   "source": [
    "input_1 = tf.nn.softmax(tf.add(tf.matmul(input_X, weights_1), bias_1))\n",
    "input_2 = tf.nn.softmax(tf.add(tf.matmul(input_1, weights_2), bias_2))\n",
    "\n",
    "input_1, input_2"
   ]
  },
  {
   "cell_type": "code",
   "execution_count": 11,
   "metadata": {
    "collapsed": true
   },
   "outputs": [],
   "source": [
    "loss = tf.losses.softmax_cross_entropy(onehot_labels=input_y, logits=input_2)"
   ]
  },
  {
   "cell_type": "code",
   "execution_count": 12,
   "metadata": {
    "collapsed": true
   },
   "outputs": [],
   "source": [
    "correct_answers = tf.equal(tf.argmax(input_y, 1), tf.argmax(input_2, 1))\n",
    "acc = tf.reduce_mean(tf.cast(correct_answers, tf.float32))"
   ]
  },
  {
   "cell_type": "code",
   "execution_count": 15,
   "metadata": {},
   "outputs": [],
   "source": [
    "# train_loss = []\n",
    "# val_loss = []\n",
    "\n",
    "# optimizer = tf.train.AdamOptimizer().minimize(loss)\n",
    "# s.run(tf.global_variables_initializer())\n",
    "\n",
    "# min_loss = 999\n",
    "# early_stopping = 10\n",
    "# count = 0\n",
    "# i = 0\n",
    "\n",
    "while True:\n",
    "    indices = np.random.choice(X_train.shape[0], 100)\n",
    "    s.run(optimizer, {input_X: X_train[indices], input_y: y_train[indices]})\n",
    "    loss_i_train = s.run(loss, feed_dict={input_X: X_train[indices], input_y: y_train[indices]})\n",
    "    loss_i_val = s.run(loss, feed_dict={input_X: X_val, input_y: y_val})\n",
    "    if loss_i_val < min_loss and count <= early_stopping:\n",
    "        min_loss = loss_i_val\n",
    "        count = 0\n",
    "    elif count > early_stopping:\n",
    "        break\n",
    "    else:\n",
    "        count += 1\n",
    "    train_loss.append(loss_i_train)\n",
    "    val_loss.append(loss_i_val)\n",
    "    if i % 10 == 0:         \n",
    "        accuracy = s.run(acc, feed_dict={input_X: X_val, input_y: y_val})\n",
    "        print(weights_1.eval().sum(), weights_2.eval().sum())\n",
    "        print(f'{i}, loss at iter = {loss_i_train}, val_loss = {loss_i_val}, acc = {accuracy}')\n",
    "    i += 1"
   ]
  },
  {
   "cell_type": "code",
   "execution_count": 14,
   "metadata": {},
   "outputs": [
    {
     "data": {
      "text/plain": [
       "<matplotlib.legend.Legend at 0x7fe19eeb1a58>"
      ]
     },
     "execution_count": 14,
     "metadata": {},
     "output_type": "execute_result"
    },
    {
     "data": {
      "image/png": "[encoded data removed]",
      "text/plain": [
       "<matplotlib.figure.Figure at 0x7fe1faba15c0>"
      ]
     },
     "metadata": {},
     "output_type": "display_data"
    }
   ],
   "source": [
    "axis_x = [g for g in range(len(train_loss))]\n",
    "plt.plot(axis_x, train_loss, 'b')\n",
    "plt.plot(axis_x, val_loss, 'r')\n",
    "plt.xlabel('number epoch')\n",
    "plt.ylabel('cross entropy loss')\n",
    "plt.legend(['train loss', 'validation loss'])"
   ]
  },
  {
   "cell_type": "code",
   "execution_count": null,
   "metadata": {
    "collapsed": true
   },
   "outputs": [],
   "source": []
  }
 ],
 "metadata": {
  "kernelspec": {
   "display_name": "Python 3",
   "language": "python",
   "name": "python3"
  },
  "language_info": {
   "codemirror_mode": {
    "name": "ipython",
    "version": 3
   },
   "file_extension": ".py",
   "mimetype": "text/x-python",
   "name": "python",
   "nbconvert_exporter": "python",
   "pygments_lexer": "ipython3",
   "version": "3.6.0"
  }
 },
 "nbformat": 4,
 "nbformat_minor": 2
}
